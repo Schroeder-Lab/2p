{
 "cells": [
  {
   "cell_type": "code",
   "execution_count": 21,
   "id": "f79e1ec4",
   "metadata": {},
   "outputs": [],
   "source": [
    "import os\n",
    "import numpy as np\n",
    "import matplotlib.pyplot as plt\n",
    "from scipy.ndimage.morphology import binary_dilation, binary_fill_holes\n",
    "# needs to have been preprocessed\n",
    "\n",
    "Drive = \"Z\"\n",
    "Subfolder = \"ProcessedData\" \n",
    "animal = \"Quille\"\n",
    "date = \"2023-09-28\"\n",
    "preprocess = \"PreprocessedFiles\\\\\"\n",
    "process_directory = f\"{Drive}:\\\\{Subfolder}\\\\{animal}\\\\{date}\\\\suite2p\\\\{preprocess}\"\n",
    "suite2p_directory = f\"{Drive}:\\\\{Subfolder}\\\\{animal}\\\\{date}\\\\suite2p\\\\\"\n"
   ]
  },
  {
   "cell_type": "code",
   "execution_count": 28,
   "id": "9f492766",
   "metadata": {},
   "outputs": [],
   "source": [
    "# functions needed\n",
    "\n",
    "# originally from suite2p!\n",
    "def boundary(ypix, xpix):\n",
    "    \"\"\" returns pixels of mask that are on the exterior of the mask \"\"\"\n",
    "    ypix = np.expand_dims(ypix.flatten(), axis=1)\n",
    "    xpix = np.expand_dims(xpix.flatten(), axis=1)\n",
    "    npix = ypix.shape[0]\n",
    "    if npix > 0:\n",
    "        msk = np.zeros((np.ptp(ypix) + 6, np.ptp(xpix) + 6), \"bool\")\n",
    "        msk[ypix - ypix.min() + 3, xpix - xpix.min() + 3] = True\n",
    "        msk = binary_dilation(msk)\n",
    "        msk = binary_fill_holes(msk)\n",
    "        k = np.ones((3, 3), dtype=int)  # for 4-connected\n",
    "        k = np.zeros((3, 3), dtype=int)\n",
    "        k[1] = 1\n",
    "        k[:, 1] = 1  # for 8-connected\n",
    "        out = binary_dilation(msk == 0, k) & msk\n",
    "\n",
    "        yext, xext = np.nonzero(out)\n",
    "        yext, xext = yext + ypix.min() - 3, xext + xpix.min() - 3\n",
    "    else:\n",
    "        yext = np.zeros((0,))\n",
    "        xext = np.zeros((0,))\n",
    "    return yext, xext\n",
    "            \n",
    "def plot_masks(upper_th = 0.6, lower_th = 0.4):\n",
    "    \"\"\"\n",
    "    Plots the outer borders of cells and colours them \n",
    "    depending on the probability that it is a inhibitory neuron.\n",
    "    \"\"\"\n",
    "    mask_red = np.zeros(red_img.shape)\n",
    "    mask_blue = np.zeros(red_img.shape)\n",
    "    mask_green = np.zeros(red_img.shape)\n",
    "\n",
    "    for n in range(stat.shape[0]):\n",
    "        if red_prob_all[curr_plane][n] > upper_th:\n",
    "            ypix = stat[n]['ypix'][~stat[n]['overlap']]\n",
    "            xpix = stat[n]['xpix'][~stat[n]['overlap']]\n",
    "            out_y, out_x = boundary(ypix, xpix)  \n",
    "            mask_red[out_y, out_x] = 1\n",
    "        elif red_prob_all[curr_plane][n] < upper_th and red_prob_all[curr_plane][n] > lower_th:\n",
    "            ypix = stat[n]['ypix'][~stat[n]['overlap']]\n",
    "            xpix = stat[n]['xpix'][~stat[n]['overlap']]\n",
    "            out_y, out_x = boundary(ypix, xpix)  \n",
    "            mask_blue[out_y, out_x] = 1\n",
    "        elif red_prob_all[curr_plane][n] < lower_th:\n",
    "            ypix = stat[n]['ypix'][~stat[n]['overlap']]\n",
    "            xpix = stat[n]['xpix'][~stat[n]['overlap']]\n",
    "            out_y, out_x = boundary(ypix, xpix)  \n",
    "            mask_green[out_y, out_x] = 1\n",
    "    fig, ax = plt.subplots(1, 2, figsize = (12,6))\n",
    "    ax[0].imshow(mean_img_green, cmap=\"gist_gray\")\n",
    "    ax[1].imshow(red_img, cmap=\"gist_gray\")\n",
    "\n",
    "    colored_img_red = np.zeros(red_img.shape + (4,))\n",
    "    colored_img_blue = np.zeros(red_img.shape + (4,))\n",
    "    colored_img_green = np.zeros(red_img.shape + (4,))\n",
    "\n",
    "    colored_img_red[mask_red == 1, 0] = 1\n",
    "    colored_img_red[mask_red == 1, 1] = 0\n",
    "    colored_img_red[mask_red == 1, 2] = 0\n",
    "    colored_img_red[mask_red == 1, 3] = 1\n",
    "\n",
    "    colored_img_blue[mask_blue == 1, 0] = 0\n",
    "    colored_img_blue[mask_blue == 1, 1] = 0\n",
    "    colored_img_blue[mask_blue == 1, 2] = 1\n",
    "    colored_img_blue[mask_blue == 1, 3] = 1\n",
    "\n",
    "    colored_img_green[mask_green == 1, 0] = 0\n",
    "    colored_img_green[mask_green == 1, 1] = 1\n",
    "    colored_img_green[mask_green == 1, 2] = 0\n",
    "    colored_img_green[mask_green == 1, 3] = 1\n",
    "\n",
    "    ax[0].imshow(colored_img_red)\n",
    "    ax[0].imshow(colored_img_blue)\n",
    "    ax[0].imshow(colored_img_green)\n",
    "    ax[0].set_title(\"chan1\")\n",
    "\n",
    "    ax[1].imshow(colored_img_red)\n",
    "    ax[1].imshow(colored_img_blue)\n",
    "    ax[1].imshow(colored_img_green)\n",
    "    ax[1].set_title(\"chan2\")\n",
    "\n",
    "    ax[1].text(450, 10, \"Vgat+ > \" + str(upper_th), c=\"red\", weight=\"bold\")\n",
    "    ax[1].text(450, 30, \"unsure\", c=\"blue\", weight=\"bold\")\n",
    "    ax[1].text(450, 50, \"Vgat- < \" + str(lower_th), c=\"green\", weight=\"bold\")\n",
    "\n",
    "    plt.show()\n",
    "\n",
    "    manager = plt.get_current_fig_manager()\n",
    "    manager.full_screen_toggle()\n",
    "\n",
    "        "
   ]
  },
  {
   "cell_type": "code",
   "execution_count": 22,
   "id": "5b19abce",
   "metadata": {},
   "outputs": [],
   "source": [
    "# Define the number of planes you want to process\n",
    "num_planes = 3  # You can change this to the number of planes you have\n",
    "\n",
    "\n",
    "red_all = np.array([])\n",
    "# probability of red\n",
    "red_prob_all = np.array([])\n",
    "\n",
    "for plane_num in range(1, num_planes + 1):\n",
    "    plane_folder = f\"{Drive}:\\\\{Subfolder}\\\\{animal}\\\\{date}\\\\suite2p\\\\plane{plane_num}\"\n",
    "    red_plane = np.load(os.path.join(plane_folder, \"redcell.npy\"), allow_pickle=True)\n",
    "    iscell = np.load(os.path.join(plane_folder, \"iscell.npy\"), allow_pickle=True)\n",
    "    iscell = iscell[:, 0].astype(bool)\n",
    "    red = red_plane[iscell, 0]\n",
    "    red_prob = red_plane[iscell, 1]\n",
    "    red_all = np.hstack((red_all, red))\n",
    "    red_prob_all = np.hstack((red_prob_all, red_prob))\n",
    "# to determine which cells in gui are the ones we get\n",
    "cell_ids= np.load(os.path.join(process_directory, \"calcium.Ids.npy\"), allow_pickle=True)"
   ]
  },
  {
   "cell_type": "code",
   "execution_count": 23,
   "id": "9e5582ec",
   "metadata": {},
   "outputs": [],
   "source": [
    "\n",
    "\n",
    "plane_directories = [suite2p_directory + f\"plane{i}\" for i in range(1, 2)]\n",
    "\n",
    "for i, plane_dir in enumerate(plane_directories, start=1):\n",
    "    planes = np.load(os.path.join(process_directory, \"calcium.planes.npy\"), allow_pickle=True)\n",
    "    iscell = np.load(os.path.join(plane_dir, \"iscell.npy\"), allow_pickle=True)\n",
    "    iscell = iscell[:, 0].astype(bool)\n",
    "    ops = np.load(os.path.join(plane_dir, \"ops.npy\"), allow_pickle=True)\n",
    "    ops = ops.item()\n",
    "    curr_plane = np.where(planes == i)[0]\n",
    "\n",
    "    mean_img_green = ops[\"meanImg\"] * 5\n",
    "    red_img = ops[\"meanImg_chan2\"]\n",
    "\n",
    "    stat = np.load(os.path.join(plane_dir, \"stat.npy\"), allow_pickle=True)\n",
    "    stat = stat[iscell]\n",
    "\n",
    "\n"
   ]
  },
  {
   "cell_type": "code",
   "execution_count": 29,
   "id": "cc1170cf",
   "metadata": {},
   "outputs": [
    {
     "data": {
      "application/vnd.jupyter.widget-view+json": {
       "model_id": "dfba81031eb142298f5f4759897ce8cf",
       "version_major": 2,
       "version_minor": 0
      },
      "text/plain": [
       "interactive(children=(FloatSlider(value=0.6, description='upper_th', max=1.0, step=0.05), FloatSlider(value=0.…"
      ]
     },
     "metadata": {},
     "output_type": "display_data"
    },
    {
     "data": {
      "text/plain": [
       "<function __main__.plot_masks(upper_th=0.6, lower_th=0.4)>"
      ]
     },
     "execution_count": 29,
     "metadata": {},
     "output_type": "execute_result"
    }
   ],
   "source": [
    "import ipywidgets as widgets\n",
    "widgets.interact(plot_masks,upper_th = (0,1,0.05), lower_th = (0,1,0.05))"
   ]
  },
  {
   "cell_type": "code",
   "execution_count": 36,
   "id": "5436f7a1",
   "metadata": {},
   "outputs": [],
   "source": [
    "# once you have determined the right threshold, save the data:\n",
    "upper_th = 0.65\n",
    "red_certain = np.zeros(red_prob_all.shape[0])\n",
    "ind_red = np.where(red_prob_all >= upper_th)\n",
    "red_certain[ind_red] = 1\n",
    "\n",
    "np.save(os.path.join(process_directory, \"red.certain.npy\"), red_certain)\n"
   ]
  }
 ],
 "metadata": {
  "kernelspec": {
   "display_name": "Python 3 (ipykernel)",
   "language": "python",
   "name": "python3"
  },
  "language_info": {
   "codemirror_mode": {
    "name": "ipython",
    "version": 3
   },
   "file_extension": ".py",
   "mimetype": "text/x-python",
   "name": "python",
   "nbconvert_exporter": "python",
   "pygments_lexer": "ipython3",
   "version": "3.8.15"
  }
 },
 "nbformat": 4,
 "nbformat_minor": 5
}
